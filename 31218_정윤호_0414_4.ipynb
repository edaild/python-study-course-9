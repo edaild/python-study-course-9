{
 "cells": [
  {
   "cell_type": "markdown",
   "id": "5ed6d304",
   "metadata": {},
   "source": [
    "31218_정윤호_0414_4"
   ]
  },
  {
   "cell_type": "markdown",
   "id": "71e703bb",
   "metadata": {},
   "source": [
    "# 5. 올림픽 데이터"
   ]
  },
  {
   "cell_type": "code",
   "execution_count": 12,
   "id": "15b1848b",
   "metadata": {},
   "outputs": [],
   "source": [
    "data =[\n",
    "    [1,'미국',46,37,38,121],\n",
    "    [2,'영국',27,23,17,67],\n",
    "    [3,'중국',26,18,26,70],\n",
    "    [4,'러시아',19,18,19,56],\n",
    "    [5,'독일',17,10,15,56],\n",
    "    [6,'일본',12,8,21,41],\n",
    "    [7,'프랑스',10,18,14,42],\n",
    "    [8,'대한민국',9,3,9,21]\n",
    "]\n"
   ]
  },
  {
   "cell_type": "code",
   "execution_count": 13,
   "id": "439aa78c",
   "metadata": {},
   "outputs": [
    {
     "name": "stdout",
     "output_type": "stream",
     "text": [
      "[[1, '미국', 46, 37, 38, 121], [2, '영국', 27, 23, 17, 67], [3, '중국', 26, 18, 26, 70], [4, '러시아', 19, 18, 19, 56], [5, '독일', 17, 10, 15, 56], [6, '일본', 12, 8, 21, 41], [7, '프랑스', 10, 18, 14, 42], [8, '대한민국', 9, 3, 9, 21]]\n"
     ]
    }
   ],
   "source": [
    "print(data)"
   ]
  },
  {
   "cell_type": "code",
   "execution_count": 18,
   "id": "7886530d",
   "metadata": {},
   "outputs": [
    {
     "name": "stdout",
     "output_type": "stream",
     "text": [
      "[1, '미국', 46, 37, 38, 121]\n",
      "[2, '영국', 27, 23, 17, 67]\n",
      "[3, '중국', 26, 18, 26, 70]\n",
      "[4, '러시아', 19, 18, 19, 56]\n",
      "[5, '독일', 17, 10, 15, 56]\n",
      "[6, '일본', 12, 8, 21, 41]\n",
      "[7, '프랑스', 10, 18, 14, 42]\n",
      "[8, '대한민국', 9, 3, 9, 21]\n"
     ]
    }
   ],
   "source": [
    "for i in data:\n",
    "    print(i)"
   ]
  },
  {
   "cell_type": "code",
   "execution_count": 19,
   "id": "5674cc36",
   "metadata": {},
   "outputs": [
    {
     "name": "stdout",
     "output_type": "stream",
     "text": [
      "미국\n",
      "영국\n",
      "중국\n",
      "러시아\n",
      "독일\n",
      "일본\n",
      "프랑스\n",
      "대한민국\n"
     ]
    }
   ],
   "source": [
    "#문제1 국가명만 출력하세요\n",
    "for i in data:\n",
    "    print(i[1])"
   ]
  },
  {
   "cell_type": "code",
   "execution_count": 31,
   "id": "254f126c",
   "metadata": {},
   "outputs": [
    {
     "name": "stdout",
     "output_type": "stream",
     "text": [
      "프랑스 금메달- 10 은메달- 18\n"
     ]
    }
   ],
   "source": [
    "# 금메달보다 은메달 개수가 많은 나라를 추력하시오\n",
    "#나라와 금메달 개수 은메달 개수를 출력하시요\n",
    "for i in date:\n",
    "    if i[2] < i[3]:\n",
    "        print(i[1],'금메달-',i[2], '은메달-',i[3])"
   ]
  },
  {
   "cell_type": "code",
   "execution_count": 37,
   "id": "737eb51c",
   "metadata": {},
   "outputs": [
    {
     "name": "stdout",
     "output_type": "stream",
     "text": [
      "프랑스 금메달- 10 동메달- 14\n"
     ]
    }
   ],
   "source": [
    "# 금메달보다 은메달 개수가 많은 나라를 추력하시오\n",
    "#나라와 금메달 개수 동메달 개수를 출력하시요\n",
    "for i in date:\n",
    "    if i[2] < i[3]:\n",
    "        print(i[1],'금메달-',i[2], '동메달-',i[4])"
   ]
  },
  {
   "cell_type": "code",
   "execution_count": 38,
   "id": "7c393f6a",
   "metadata": {},
   "outputs": [
    {
     "ename": "SyntaxError",
     "evalue": "invalid syntax (Temp/ipykernel_9660/1728648067.py, line 3)",
     "output_type": "error",
     "traceback": [
      "\u001b[1;36m  File \u001b[1;32m\"C:\\Users\\user\\AppData\\Local\\Temp/ipykernel_9660/1728648067.py\"\u001b[1;36m, line \u001b[1;32m3\u001b[0m\n\u001b[1;33m    if i[0] i++\u001b[0m\n\u001b[1;37m            ^\u001b[0m\n\u001b[1;31mSyntaxError\u001b[0m\u001b[1;31m:\u001b[0m invalid syntax\n"
     ]
    }
   ],
   "source": [
    "# 모든 나라의 금메달 합을 구하시오\n",
    "gole = 0\n",
    "for"
   ]
  },
  {
   "cell_type": "code",
   "execution_count": null,
   "id": "661b707c",
   "metadata": {},
   "outputs": [],
   "source": []
  }
 ],
 "metadata": {
  "kernelspec": {
   "display_name": "Python 3 (ipykernel)",
   "language": "python",
   "name": "python3"
  },
  "language_info": {
   "codemirror_mode": {
    "name": "ipython",
    "version": 3
   },
   "file_extension": ".py",
   "mimetype": "text/x-python",
   "name": "python",
   "nbconvert_exporter": "python",
   "pygments_lexer": "ipython3",
   "version": "3.9.7"
  }
 },
 "nbformat": 4,
 "nbformat_minor": 5
}
